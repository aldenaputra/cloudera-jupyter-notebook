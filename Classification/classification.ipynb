{
 "cells": [
  {
   "cell_type": "code",
   "execution_count": 1,
   "metadata": {},
   "outputs": [],
   "source": [
    "from pyspark.sql import SparkSession\n",
    "from pyspark.sql.functions import when\n",
    "from pyspark.ml.classification import LogisticRegression\n",
    "from pyspark.ml.feature import StandardScaler, VectorAssembler\n",
    "from pyspark.ml.evaluation import BinaryClassificationEvaluator"
   ]
  },
  {
   "cell_type": "code",
   "execution_count": 2,
   "metadata": {},
   "outputs": [],
   "source": [
    "spark = SparkSession.builder.getOrCreate()"
   ]
  },
  {
   "cell_type": "code",
   "execution_count": 3,
   "metadata": {},
   "outputs": [],
   "source": [
    "df_test = spark.read.option('inferSchema', 'true').csv('PlaneDelayTesting.csv', header=True)\n",
    "df_train = spark.read.option('inferSchema', 'true').csv('PlaneDelayTraining.csv', header=True)"
   ]
  },
  {
   "cell_type": "code",
   "execution_count": 4,
   "metadata": {},
   "outputs": [
    {
     "name": "stdout",
     "output_type": "stream",
     "text": [
      "+-------+-------------+---------+\n",
      "|Airline|TimeDeparture|IsDelayed|\n",
      "+-------+-------------+---------+\n",
      "|     DL|          650|        0|\n",
      "|     DL|          650|        0|\n",
      "|     DL|          650|        0|\n",
      "|     DL|          650|        0|\n",
      "|     DL|          650|        0|\n",
      "+-------+-------------+---------+\n",
      "only showing top 5 rows\n",
      "\n"
     ]
    }
   ],
   "source": [
    "df_test = df_test.select('Airline', 'TimeDeparture', 'IsDelayed')\n",
    "df_train = df_train.select('Airline', 'TimeDeparture', 'IsDelayed')\n",
    "df_train.show(5)"
   ]
  },
  {
   "cell_type": "code",
   "execution_count": 5,
   "metadata": {},
   "outputs": [],
   "source": [
    "df_test = df_test.na.drop()\n",
    "df_train = df_train.na.drop()"
   ]
  },
  {
   "cell_type": "code",
   "execution_count": 6,
   "metadata": {},
   "outputs": [
    {
     "name": "stdout",
     "output_type": "stream",
     "text": [
      "+-------+-------------+---------+\n",
      "|Airline|TimeDeparture|IsDelayed|\n",
      "+-------+-------------+---------+\n",
      "|      0|          650|        0|\n",
      "|      0|          515|        0|\n",
      "|      0|          515|        0|\n",
      "|      1|         1184|        0|\n",
      "|      1|         1184|        0|\n",
      "|      1|          775|        0|\n",
      "|      1|          775|        0|\n",
      "|      1|          700|        1|\n",
      "|      0|         1230|        1|\n",
      "|      0|         1135|        1|\n",
      "|      0|         1135|        1|\n",
      "|      0|          965|        1|\n",
      "|      0|          965|        1|\n",
      "|      1|          697|        0|\n",
      "|      1|          697|        0|\n",
      "|      1|          697|        0|\n",
      "|      0|          870|        0|\n",
      "|      0|          870|        0|\n",
      "|      0|          487|        0|\n",
      "|      0|          487|        0|\n",
      "+-------+-------------+---------+\n",
      "only showing top 20 rows\n",
      "\n"
     ]
    }
   ],
   "source": [
    "def transform(df):\n",
    "    df = df.withColumn(\"Airline\", when(df[\"Airline\"] == \"DL\", 0).\\\n",
    "                      when(df[\"Airline\"] == \"FL\", 1).\\\n",
    "                      when(df[\"Airline\"] == \"EV\", 2))\n",
    "    return df\n",
    "\n",
    "df_test = transform(df_test)\n",
    "df_train = transform(df_train)\n",
    "\n",
    "df_test.show()\n",
    "\n",
    "cols = df_train.columns\n",
    "cols.remove(\"IsDelayed\")\n",
    "\n",
    "assembler = VectorAssembler(inputCols=cols, outputCol=\"Features\")\n",
    "scaler = StandardScaler(inputCol=\"Features\", outputCol=\"ScaledFeatures\")\n",
    "\n",
    "df_test = assembler.transform(df_test)\n",
    "df_test = scaler.fit(df_test).transform(df_test)\n",
    "\n",
    "df_train = assembler.transform(df_train)\n",
    "df_train = scaler.fit(df_train).transform(df_train)"
   ]
  },
  {
   "cell_type": "code",
   "execution_count": 7,
   "metadata": {},
   "outputs": [],
   "source": [
    "model = LogisticRegression(featuresCol=\"ScaledFeatures\", labelCol=\"IsDelayed\", maxIter=1000).fit(df_train)\n",
    "prediction = model.transform(df_test)"
   ]
  },
  {
   "cell_type": "code",
   "execution_count": 8,
   "metadata": {},
   "outputs": [
    {
     "name": "stdout",
     "output_type": "stream",
     "text": [
      "81.76\n"
     ]
    }
   ],
   "source": [
    "evaluator = BinaryClassificationEvaluator(labelCol=\"IsDelayed\")\n",
    "accuracy = round(evaluator.evaluate(prediction) * 100, 2)\n",
    "print(accuracy)"
   ]
  }
 ],
 "metadata": {
  "kernelspec": {
   "display_name": "Python 3",
   "language": "python",
   "name": "python3"
  },
  "language_info": {
   "codemirror_mode": {
    "name": "ipython",
    "version": 3
   },
   "file_extension": ".py",
   "mimetype": "text/x-python",
   "name": "python",
   "nbconvert_exporter": "python",
   "pygments_lexer": "ipython3",
   "version": "3.7.4"
  }
 },
 "nbformat": 4,
 "nbformat_minor": 2
}
